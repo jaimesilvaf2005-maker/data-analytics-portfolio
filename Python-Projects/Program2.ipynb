{
 "cells": [
  {
   "cell_type": "code",
   "execution_count": 5,
   "id": "86adf1aa-4146-4738-9813-535e3e9ab392",
   "metadata": {},
   "outputs": [
    {
     "name": "stdin",
     "output_type": "stream",
     "text": [
      "Enter a phone number (e.g., 1-800-FLOWERS):  1-400-Ecuador\n"
     ]
    },
    {
     "name": "stdout",
     "output_type": "stream",
     "text": [
      "The digits are: 1-400-3282367\n"
     ]
    }
   ],
   "source": [
    "# CMP/DAT 141 – Program #2\n",
    "# Jaime Silva\n",
    "\n",
    "\n",
    "def digit(ch):\n",
    "    ch = ch.upper()\n",
    "    if ch in \"ABC\":\n",
    "        return \"2\"\n",
    "    elif ch in \"DEF\":\n",
    "        return \"3\"\n",
    "    elif ch in \"GHI\":\n",
    "        return \"4\"\n",
    "    elif ch in \"JKL\":\n",
    "        return \"5\"\n",
    "    elif ch in \"MNO\":\n",
    "        return \"6\"\n",
    "    elif ch in \"PQRS\":\n",
    "        return \"7\"\n",
    "    elif ch in \"TUV\":\n",
    "        return \"8\"\n",
    "    elif ch in \"WXYZ\":\n",
    "        return \"9\"\n",
    "    else:\n",
    "        return ch\n",
    "\n",
    "# Main Program\n",
    "phone_number = input(\"Enter a phone number (e.g., 1-800-FLOWERS): \")\n",
    "\n",
    "converted = \"\"\n",
    "for letter in phone_number:\n",
    "    converted += digit(letter)\n",
    "\n",
    "print(\"The digits are:\", converted)"
   ]
  },
  {
   "cell_type": "code",
   "execution_count": 6,
   "id": "bccd8c15-bacd-44bc-8155-a35ec565351f",
   "metadata": {},
   "outputs": [
    {
     "name": "stdin",
     "output_type": "stream",
     "text": [
      "Enter a phone number (e.g., 1-800-FLOWERS):  1-300-FAMILY\n"
     ]
    },
    {
     "name": "stdout",
     "output_type": "stream",
     "text": [
      "The digits are: 1-300-326459\n"
     ]
    }
   ],
   "source": [
    "\n",
    "def digit(ch):\n",
    "    ch = ch.upper()\n",
    "    if ch in \"ABC\":\n",
    "        return \"2\"\n",
    "    elif ch in \"DEF\":\n",
    "        return \"3\"\n",
    "    elif ch in \"GHI\":\n",
    "        return \"4\"\n",
    "    elif ch in \"JKL\":\n",
    "        return \"5\"\n",
    "    elif ch in \"MNO\":\n",
    "        return \"6\"\n",
    "    elif ch in \"PQRS\":\n",
    "        return \"7\"\n",
    "    elif ch in \"TUV\":\n",
    "        return \"8\"\n",
    "    elif ch in \"WXYZ\":\n",
    "        return \"9\"\n",
    "    else:\n",
    "        return ch\n",
    "\n",
    "# Main Program\n",
    "phone_number = input(\"Enter a phone number (e.g., 1-800-FLOWERS): \")\n",
    "\n",
    "converted = \"\"\n",
    "for letter in phone_number:\n",
    "    converted += digit(letter)\n",
    "\n",
    "print(\"The digits are:\", converted)\n"
   ]
  },
  {
   "cell_type": "code",
   "execution_count": null,
   "id": "76a098c1-f9df-4966-956e-6039541b76a4",
   "metadata": {},
   "outputs": [],
   "source": [
    "\n",
    "def digit(ch):\n",
    "    ch = ch.upper()\n",
    "    if ch in \"ABC\":\n",
    "        return \"2\"\n",
    "    elif ch in \"DEF\":\n",
    "        return \"3\"\n",
    "    elif ch in \"GHI\":\n",
    "        return \"4\"\n",
    "    elif ch in \"JKL\":\n",
    "        return \"5\"\n",
    "    elif ch in \"MNO\":\n",
    "        return \"6\"\n",
    "    elif ch in \"PQRS\":\n",
    "        return \"7\"\n",
    "    elif ch in \"TUV\":\n",
    "        return \"8\"\n",
    "    elif ch in \"WXYZ\":\n",
    "        return \"9\"\n",
    "    else:\n",
    "        return ch\n",
    "\n",
    "# Main Program\n",
    "phone_number = input(\"Enter a phone number (e.g., 1-800-FLOWERS): \")\n",
    "\n",
    "converted = \"\"\n",
    "for letter in phone_number:\n",
    "    converted += digit(letter)\n",
    "\n",
    "print(\"The digits are:\", converted)"
   ]
  },
  {
   "cell_type": "code",
   "execution_count": null,
   "id": "cc3c3d36-06c6-4f70-9578-7f20c01156b2",
   "metadata": {},
   "outputs": [],
   "source": []
  },
  {
   "cell_type": "code",
   "execution_count": null,
   "id": "ee58ff95-3a6e-4068-9911-521f469ffa3a",
   "metadata": {},
   "outputs": [],
   "source": []
  }
 ],
 "metadata": {
  "kernelspec": {
   "display_name": "Python [conda env:base] *",
   "language": "python",
   "name": "conda-base-py"
  },
  "language_info": {
   "codemirror_mode": {
    "name": "ipython",
    "version": 3
   },
   "file_extension": ".py",
   "mimetype": "text/x-python",
   "name": "python",
   "nbconvert_exporter": "python",
   "pygments_lexer": "ipython3",
   "version": "3.13.5"
  }
 },
 "nbformat": 4,
 "nbformat_minor": 5
}
